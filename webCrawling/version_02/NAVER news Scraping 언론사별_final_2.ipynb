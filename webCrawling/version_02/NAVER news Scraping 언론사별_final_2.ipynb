{
 "cells": [
  {
   "cell_type": "code",
   "execution_count": null,
   "metadata": {
    "colab": {
     "base_uri": "https://localhost:8080/"
    },
    "executionInfo": {
     "elapsed": 313,
     "status": "ok",
     "timestamp": 1645889562132,
     "user": {
      "displayName": "Jasse Han",
      "photoUrl": "https://lh3.googleusercontent.com/a/default-user=s64",
      "userId": "09275841224975175457"
     },
     "user_tz": -540
    },
    "id": "OiiYH7aSSeAM",
    "outputId": "6db34301-75ef-4e6f-a898-3b31f56d6256"
   },
   "outputs": [],
   "source": [
    "%%time\n",
    "import re\n",
    "import requests\n",
    "from datetime import datetime, timedelta\n",
    "from bs4 import BeautifulSoup\n",
    "import pandas as pd\n",
    "# 접근정보 추가\n",
    "headers = {'user-agent': 'Mozilla/5.0 (Macintosh; Intel Mac OS X 10_15_7) AppleWebKit/605.1.15 (KHTML, like Gecko) Version/15.3 Safari/605.1.15'}\n",
    "\n",
    "def make_urllist(code, start_news_date, end_news_date):\n",
    "  \n",
    "    url = 'https://news.naver.com/main/list.naver?mode=LPOD&mid=sec&oid='+str(code)+'&date='+start_news_date+'&page=1'\n",
    "    news = requests.get(url, headers=headers)\n",
    "    news.content\n",
    "    soup = BeautifulSoup(news.content, 'html.parser')\n",
    "    start_news_num = soup.select('.type06_headline li dl')[0].a.get('href')[-10:]\n",
    "    print(start_news_num)\n",
    "\n",
    "    url = 'https://news.naver.com/main/list.naver?mode=LPOD&mid=sec&oid='+str(code)+'&date='+end_news_date+'&page=1'\n",
    "    news = requests.get(url, headers=headers)\n",
    "    news.content\n",
    "    soup = BeautifulSoup(news.content, 'html.parser')\n",
    "    end_news_num = soup.select('.type06_headline li dl')[0].a.get('href')[-10:]\n",
    "    print(end_news_num)\n",
    "\n",
    "    urllist= []\n",
    "    for news_num in range(int(start_news_num), int(end_news_num)):\n",
    "        url = 'https://news.naver.com/main/read.naver?mode=LPOD&mid=sec&oid='+str(code)+'&aid='+str(\"{0:0>10}\".format(news_num))\n",
    "        urllist.append(url)\n",
    "\n",
    "    return urllist"
   ]
  },
  {
   "cell_type": "code",
   "execution_count": null,
   "metadata": {
    "id": "2nV-CxMnTrrd"
   },
   "outputs": [],
   "source": [
    "%%time\n",
    "#언론사 뉴스 검색\n",
    "code =  \"025\"\n",
    "start_news_date = \"20211130\"\n",
    "end_news_date = \"20220226\"\n",
    "news_urllist = []\n",
    "# for code in ['023','025','020','009']:\n",
    "urllist = make_urllist(code, start_news_date, end_news_date)\n",
    "  # code: 언론사 코드\n",
    "    # 조선일보: 023\n",
    "    # 중앙일보: 025\n",
    "    # 동아일보: 020\n",
    "    # 한겨례: 028\n",
    "    # 매일경제: 009\n",
    "  # date: YYYYMMDD\n",
    "news_urllist.append(urllist)\n",
    "\n",
    "news_all_urllist = sum(news_urllist, [])\n",
    "\n",
    "print('뉴스 기사의 개수 :',len(news_all_urllist))\n",
    "print(news_all_urllist)"
   ]
  },
  {
   "cell_type": "code",
   "execution_count": null,
   "metadata": {
    "id": "NbC4PfouSvko",
    "outputId": "d8e71048-622e-4a04-bd66-2ae77a6c6319"
   },
   "outputs": [],
   "source": [
    "%%time\n",
    "data = []\n",
    "for news_url in news_all_urllist:\n",
    "    json_data = {}\n",
    "\n",
    "    # news_url: 기사 원문 URL\n",
    "    json_data[\"news_url\"] = news_url\n",
    "    print(news_url)\n",
    "\n",
    "    news_url = requests.get(news_url, headers=headers)\n",
    "    news_url.content\n",
    "    news_page_html = BeautifulSoup( news_url.content, 'html.parser')\n",
    "\n",
    "    # news_title: 기사 제목\n",
    "    if news_page_html.select_one('#articleTitle'):\n",
    "        news_title = news_page_html.select_one('#articleTitle').text\n",
    "    elif news_page_html.select_one('#title'):\n",
    "        news_title = news_page_html.select_one('#title').text\n",
    "    else:\n",
    "        continue\n",
    "    json_data[\"news_title\"] = news_title\n",
    "    print(news_title)\n",
    "\n",
    "    # news_subtitle: 부제목\n",
    "    if news_page_html.select_one(\".media_end_summary\"):\n",
    "        news_subtitle = news_page_html.select_one(\".media_end_summary\").text\n",
    "    else:\n",
    "        news_subtitle = \"\"\n",
    "    json_data[\"news_subtitle\"] = news_subtitle\n",
    "    print(news_subtitle)\n",
    "\n",
    "    # news_wrtier: 기자\n",
    "    if news_page_html.select_one(\".journalistcard_summary_name\"):\n",
    "        news_wrtier = news_page_html.select_one(\".journalistcard_summary_name\").text\n",
    "        news_wrtier = re.sub(\"[기자]\",\"\", news_wrtier).strip()\n",
    "    elif news_page_html.select_one(\".b_text\"):\n",
    "        news_wrtier = news_page_html.select_one(\".b_text\").text\n",
    "        news_wrtier = re.sub(\"[|기자|인턴|특파원|\\s|\\d|a-z|(|@|.|)|]\",\"\", news_wrtier).strip()\n",
    "    else:\n",
    "        news_wrtier = \"\"\n",
    "    json_data[\"news_wrtier\"] = news_wrtier\n",
    "    print(news_wrtier)\n",
    "\n",
    "    # news_date: 날짜\n",
    "    if news_page_html.select_one(\".t11\"):\n",
    "        news_date = news_page_html.select_one(\".t11\").text\n",
    "        news_date = re.sub(\"오전\", \"AM\", news_date)\n",
    "        news_date = re.sub(\"오후\", \"PM\", news_date)\n",
    "        news_date = datetime.strptime(news_date, \"%Y.%m.%d. %p %I:%M\").strftime(\"%Y-%m-%d %I:%M\")\n",
    "    else:\n",
    "        news_date = \"\"\n",
    "    json_data[\"news_date\"] = news_date\n",
    "    print(news_date)\n",
    "\n",
    "    # news_article: 기사 내용\n",
    "    if news_page_html.find('div', {'id':'articleBodyContents'}):\n",
    "        news_article = news_page_html.find('div', {'id':'articleBodyContents'}).text.strip()\n",
    "        news_article = news_article.replace(\"// flash 오류를 우회하기 위한 함수 추가\", \"\")\n",
    "        news_article = news_article.replace(\"function _flash_removeCallback() {}\", \"\")\n",
    "        ignore_article = \"|\\n|\\t|\\xa0|[WEEKLY|BIZ]|Biz|Calendar|[앵커]|[리포트]|이미지출처처=연합뉴스스]|[KBS|울산]|[포토]|[연합뉴스]|[경향신문]|\"\n",
    "        news_article = re.sub(ignore_article,\"\", news_article)\n",
    "    else:\n",
    "        news_article = \"\"\n",
    "    json_data[\"news_article\"] = news_article\n",
    "    print(news_article)\n",
    "\n",
    "    # news_img_path: 기사 img 경로\n",
    "    # if news_soup.select(\"figure\"):\n",
    "    #     news_img_path = news_soup.select_one(\"figure\").img.get(\"src\")\n",
    "    # else:\n",
    "    #     news_img_path = \"null\"\n",
    "    # json_data[\"news_img_path\"] = news_img_path\n",
    "\n",
    "    # news_source : 신문사\n",
    "    if news_page_html.select_one(\".c_text\"):\n",
    "        news_source = news_page_html.select_one(\".c_text\").get_text().strip()\n",
    "        news_source = news_source.replace(\"Copyright ⓒ \", \"\")\n",
    "        news_source = news_source.replace(\". All rights reserved. 무단 전재 및 재배포 금지.\", \"\")\n",
    "    else:\n",
    "        news_source = \"\"\n",
    "\n",
    "    json_data[\"news_source\"] = news_source\n",
    "    print(news_source)\n",
    "\n",
    "    data.append(json_data)\n",
    "\n",
    "print(data)"
   ]
  },
  {
   "cell_type": "code",
   "execution_count": 7,
   "metadata": {
    "id": "FBQDbGfbSwSf"
   },
   "outputs": [],
   "source": [
    "# json 파일로 저장\n",
    "import json\n",
    "with open(\"Naver_News_joongang_adult_20220226~20211201.json\", \"w\", encoding=\"utf-8\") as json_file:\n",
    "    json.dump(data, json_file,  ensure_ascii=False)"
   ]
  }
 ],
 "metadata": {
  "colab": {
   "collapsed_sections": [],
   "name": "NAVER news Scraping 언론사별_final_1.ipynb",
   "provenance": []
  },
  "kernelspec": {
   "display_name": "Python 3 (ipykernel)",
   "language": "python",
   "name": "python3"
  },
  "language_info": {
   "codemirror_mode": {
    "name": "ipython",
    "version": 3
   },
   "file_extension": ".py",
   "mimetype": "text/x-python",
   "name": "python",
   "nbconvert_exporter": "python",
   "pygments_lexer": "ipython3",
   "version": "3.9.7"
  }
 },
 "nbformat": 4,
 "nbformat_minor": 1
}
