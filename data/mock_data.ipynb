{
  "cells": [
    {
      "cell_type": "markdown",
      "metadata": {
        "id": "view-in-github",
        "colab_type": "text"
      },
      "source": [
        "<a href=\"https://colab.research.google.com/github/euneun316/PlayData-SemiPrj/blob/sheon-j/data/mock_data.ipynb\" target=\"_parent\"><img src=\"https://colab.research.google.com/assets/colab-badge.svg\" alt=\"Open In Colab\"/></a>"
      ]
    },
    {
      "cell_type": "code",
      "source": [
        "!pip install konlpy"
      ],
      "metadata": {
        "id": "crEbAN9uCVzT"
      },
      "execution_count": null,
      "outputs": []
    },
    {
      "cell_type": "code",
      "source": [
        "import sys\n",
        "import pandas as pd\n",
        "import numpy as np\n",
        "import json\n",
        "\n",
        "from collections import Counter\n",
        "from konlpy.tag import Hannanum"
      ],
      "metadata": {
        "id": "6sWiKzUvzLAG"
      },
      "execution_count": 52,
      "outputs": []
    },
    {
      "cell_type": "code",
      "source": [
        "# econoi_url = \"https://github.com/euneun316/PlayData-SemiPrj/blob/sheon-j/data/econoi.json\" 재 크롤링 필요\n",
        "kid_chosun_url = \"https://raw.githubusercontent.com/euneun316/PlayData-SemiPrj/sheon-j/data/kid_chosun.json\"\n",
        "kids_donga_url = \"https://raw.githubusercontent.com/euneun316/PlayData-SemiPrj/sheon-j/data/kids_donga.json\"\n",
        "sojoong_url = \"https://raw.githubusercontent.com/euneun316/PlayData-SemiPrj/sheon-j/data/sojoong.json\""
      ],
      "metadata": {
        "id": "mohldGgnzOmp"
      },
      "execution_count": 3,
      "outputs": []
    },
    {
      "cell_type": "code",
      "source": [
        "# econoi = pd.read_json(econoi_url, lines=True) 안됨!\n",
        "chosun = pd.read_json(kid_chosun_url, lines=True).drop(\"_id\", axis=1)\n",
        "donga = pd.read_json(kids_donga_url, lines=True).drop(\"_id\", axis=1)\n",
        "sojoong = pd.read_json(sojoong_url, lines=True).drop(\"_id\", axis=1)\n",
        "df = pd.concat([chosun, donga, sojoong])"
      ],
      "metadata": {
        "id": "ZYub9p6N1lpR"
      },
      "execution_count": 137,
      "outputs": []
    },
    {
      "cell_type": "code",
      "source": [
        "# img URI의 길이가 너무 길다\n",
        "# df[df[\"news_img_path\"].fillna(\"\").apply(lambda x: len(x))>200][\"news_img_path\"]\n",
        "# 158번 기사(67798), 184번 기사(175974)\n",
        "\n",
        "df.loc[df[\"news_img_path\"].fillna(\"\").apply(lambda x: len(x))>200, 'news_img_path'] = \"\""
      ],
      "metadata": {
        "id": "D2DR9UmTE_Fp"
      },
      "execution_count": 138,
      "outputs": []
    },
    {
      "cell_type": "code",
      "source": [
        "cnt_df = df[df[\"news_date\"].str.contains('2021-12')]\n",
        "cnt_df.head(3)"
      ],
      "metadata": {
        "colab": {
          "base_uri": "https://localhost:8080/",
          "height": 237
        },
        "id": "S6wsB3zp876Y",
        "outputId": "baa5ad2d-ea87-4714-8a7e-273d57cfa86e"
      },
      "execution_count": 139,
      "outputs": [
        {
          "output_type": "execute_result",
          "data": {
            "text/html": [
              "\n",
              "  <div id=\"df-97c9514b-0822-4b54-a973-fa6bbb7abcb7\">\n",
              "    <div class=\"colab-df-container\">\n",
              "      <div>\n",
              "<style scoped>\n",
              "    .dataframe tbody tr th:only-of-type {\n",
              "        vertical-align: middle;\n",
              "    }\n",
              "\n",
              "    .dataframe tbody tr th {\n",
              "        vertical-align: top;\n",
              "    }\n",
              "\n",
              "    .dataframe thead th {\n",
              "        text-align: right;\n",
              "    }\n",
              "</style>\n",
              "<table border=\"1\" class=\"dataframe\">\n",
              "  <thead>\n",
              "    <tr style=\"text-align: right;\">\n",
              "      <th></th>\n",
              "      <th>news_url</th>\n",
              "      <th>news_title</th>\n",
              "      <th>news_subtitle</th>\n",
              "      <th>news_author</th>\n",
              "      <th>news_date</th>\n",
              "      <th>news_article</th>\n",
              "      <th>news_img_path</th>\n",
              "      <th>news_source</th>\n",
              "    </tr>\n",
              "  </thead>\n",
              "  <tbody>\n",
              "    <tr>\n",
              "      <th>280</th>\n",
              "      <td>http://kid.chosun.com/site/data/html_dir/2021/...</td>\n",
              "      <td>이번 주 미션!</td>\n",
              "      <td></td>\n",
              "      <td>신현주 인턴기자</td>\n",
              "      <td>2021-12-31 03:00</td>\n",
              "      <td>① 오늘은 내가 뚱딴지 작가!:  뚱딴지 만화 선택 후 말풍선 대화 보내기 ② 책 ...</td>\n",
              "      <td>http://kid.chosun.com/site/data/img_dir/2021/1...</td>\n",
              "      <td>어린이조선일보</td>\n",
              "    </tr>\n",
              "    <tr>\n",
              "      <th>281</th>\n",
              "      <td>http://kid.chosun.com/site/data/html_dir/2021/...</td>\n",
              "      <td>[요즘 나는 이렇게 지내요] 황금비율 맞춰 생크림 바르고, 마카롱 장식!</td>\n",
              "      <td></td>\n",
              "      <td>임가온(서울 신도초 3)</td>\n",
              "      <td>2021-12-31 03:00</td>\n",
              "      <td>심각한 코로나 상황 탓에 '집콕' 크리스마스를 보낸 친구들이 많을 거야. 난 이번 ...</td>\n",
              "      <td>http://kid.chosun.com/site/data/img_dir/2021/1...</td>\n",
              "      <td>어린이조선일보</td>\n",
              "    </tr>\n",
              "    <tr>\n",
              "      <th>282</th>\n",
              "      <td>http://kid.chosun.com/site/data/html_dir/2021/...</td>\n",
              "      <td>[오! 마이 트레저] 내게 소중한 건 앵무새 '바닐라' '라떼' 입니다</td>\n",
              "      <td>아침에 눈 뜨면 \"굿 모닝\" 인사부터</td>\n",
              "      <td>송은설(부산 덕양초 5)</td>\n",
              "      <td>2021-12-31 03:00</td>\n",
              "      <td>바닐라와 라떼를 처음 만난 날, 저는 한눈에 반해버렸습니다. 다른 앵무새도 많았지만...</td>\n",
              "      <td>http://kid.chosun.com/site/data/img_dir/2021/1...</td>\n",
              "      <td>어린이조선일보</td>\n",
              "    </tr>\n",
              "  </tbody>\n",
              "</table>\n",
              "</div>\n",
              "      <button class=\"colab-df-convert\" onclick=\"convertToInteractive('df-97c9514b-0822-4b54-a973-fa6bbb7abcb7')\"\n",
              "              title=\"Convert this dataframe to an interactive table.\"\n",
              "              style=\"display:none;\">\n",
              "        \n",
              "  <svg xmlns=\"http://www.w3.org/2000/svg\" height=\"24px\"viewBox=\"0 0 24 24\"\n",
              "       width=\"24px\">\n",
              "    <path d=\"M0 0h24v24H0V0z\" fill=\"none\"/>\n",
              "    <path d=\"M18.56 5.44l.94 2.06.94-2.06 2.06-.94-2.06-.94-.94-2.06-.94 2.06-2.06.94zm-11 1L8.5 8.5l.94-2.06 2.06-.94-2.06-.94L8.5 2.5l-.94 2.06-2.06.94zm10 10l.94 2.06.94-2.06 2.06-.94-2.06-.94-.94-2.06-.94 2.06-2.06.94z\"/><path d=\"M17.41 7.96l-1.37-1.37c-.4-.4-.92-.59-1.43-.59-.52 0-1.04.2-1.43.59L10.3 9.45l-7.72 7.72c-.78.78-.78 2.05 0 2.83L4 21.41c.39.39.9.59 1.41.59.51 0 1.02-.2 1.41-.59l7.78-7.78 2.81-2.81c.8-.78.8-2.07 0-2.86zM5.41 20L4 18.59l7.72-7.72 1.47 1.35L5.41 20z\"/>\n",
              "  </svg>\n",
              "      </button>\n",
              "      \n",
              "  <style>\n",
              "    .colab-df-container {\n",
              "      display:flex;\n",
              "      flex-wrap:wrap;\n",
              "      gap: 12px;\n",
              "    }\n",
              "\n",
              "    .colab-df-convert {\n",
              "      background-color: #E8F0FE;\n",
              "      border: none;\n",
              "      border-radius: 50%;\n",
              "      cursor: pointer;\n",
              "      display: none;\n",
              "      fill: #1967D2;\n",
              "      height: 32px;\n",
              "      padding: 0 0 0 0;\n",
              "      width: 32px;\n",
              "    }\n",
              "\n",
              "    .colab-df-convert:hover {\n",
              "      background-color: #E2EBFA;\n",
              "      box-shadow: 0px 1px 2px rgba(60, 64, 67, 0.3), 0px 1px 3px 1px rgba(60, 64, 67, 0.15);\n",
              "      fill: #174EA6;\n",
              "    }\n",
              "\n",
              "    [theme=dark] .colab-df-convert {\n",
              "      background-color: #3B4455;\n",
              "      fill: #D2E3FC;\n",
              "    }\n",
              "\n",
              "    [theme=dark] .colab-df-convert:hover {\n",
              "      background-color: #434B5C;\n",
              "      box-shadow: 0px 1px 3px 1px rgba(0, 0, 0, 0.15);\n",
              "      filter: drop-shadow(0px 1px 2px rgba(0, 0, 0, 0.3));\n",
              "      fill: #FFFFFF;\n",
              "    }\n",
              "  </style>\n",
              "\n",
              "      <script>\n",
              "        const buttonEl =\n",
              "          document.querySelector('#df-97c9514b-0822-4b54-a973-fa6bbb7abcb7 button.colab-df-convert');\n",
              "        buttonEl.style.display =\n",
              "          google.colab.kernel.accessAllowed ? 'block' : 'none';\n",
              "\n",
              "        async function convertToInteractive(key) {\n",
              "          const element = document.querySelector('#df-97c9514b-0822-4b54-a973-fa6bbb7abcb7');\n",
              "          const dataTable =\n",
              "            await google.colab.kernel.invokeFunction('convertToInteractive',\n",
              "                                                     [key], {});\n",
              "          if (!dataTable) return;\n",
              "\n",
              "          const docLinkHtml = 'Like what you see? Visit the ' +\n",
              "            '<a target=\"_blank\" href=https://colab.research.google.com/notebooks/data_table.ipynb>data table notebook</a>'\n",
              "            + ' to learn more about interactive tables.';\n",
              "          element.innerHTML = '';\n",
              "          dataTable['output_type'] = 'display_data';\n",
              "          await google.colab.output.renderOutput(dataTable, element);\n",
              "          const docLink = document.createElement('div');\n",
              "          docLink.innerHTML = docLinkHtml;\n",
              "          element.appendChild(docLink);\n",
              "        }\n",
              "      </script>\n",
              "    </div>\n",
              "  </div>\n",
              "  "
            ],
            "text/plain": [
              "                                              news_url  ... news_source\n",
              "280  http://kid.chosun.com/site/data/html_dir/2021/...  ...     어린이조선일보\n",
              "281  http://kid.chosun.com/site/data/html_dir/2021/...  ...     어린이조선일보\n",
              "282  http://kid.chosun.com/site/data/html_dir/2021/...  ...     어린이조선일보\n",
              "\n",
              "[3 rows x 8 columns]"
            ]
          },
          "metadata": {},
          "execution_count": 139
        }
      ]
    },
    {
      "cell_type": "code",
      "source": [
        "text = \". \".join(list(cnt_df[\"news_article\"][:20]))"
      ],
      "metadata": {
        "id": "ii4viwHDEHt0"
      },
      "execution_count": 140,
      "outputs": []
    },
    {
      "cell_type": "code",
      "source": [
        "h = Hannanum()\n",
        "nouns = h.nouns(text)\n",
        "count = Counter(nouns)"
      ],
      "metadata": {
        "id": "oFe-m1myD-lq"
      },
      "execution_count": 141,
      "outputs": []
    },
    {
      "cell_type": "code",
      "source": [
        "count_data = [{key: count[key]} for key in dict(count) if count[key] > 4]"
      ],
      "metadata": {
        "id": "XNUweqZOFDXx"
      },
      "execution_count": 142,
      "outputs": []
    },
    {
      "cell_type": "code",
      "source": [
        "print(count_data)"
      ],
      "metadata": {
        "colab": {
          "base_uri": "https://localhost:8080/"
        },
        "id": "bRJICY2mHMfv",
        "outputId": "d3fa3eec-5d34-48a4-f730-2b5140afbb9b"
      },
      "execution_count": 143,
      "outputs": [
        {
          "output_type": "stream",
          "name": "stdout",
          "text": [
            "[{'나': 15}, {'어린이조선일보': 8}, {'기': 8}, {'등': 27}, {'일': 13}, {'독자': 5}, {'수': 50}, {'활동': 9}, {'→': 8}, {'내': 6}, {'코': 7}, {'크리스마스': 6}, {'친구들': 6}, {'것': 45}, {'때': 15}, {'집': 14}, {'케이크': 10}, {'활용': 5}, {'이': 11}, {'생크림': 5}, {'중요': 5}, {'속': 5}, {'마음': 9}, {'바닐라': 6}, {'라': 8}, {'날': 7}, {'저': 15}, {'눈': 6}, {'우리': 15}, {'지': 11}, {'친구': 5}, {'모습': 7}, {'건강': 5}, {'2022년': 7}, {'내년': 10}, {'계획': 8}, {'연말': 5}, {'올해': 11}, {'자신': 8}, {'원': 6}, {'여러분': 16}, {'한': 9}, {'전': 5}, {'적': 5}, {'그': 6}, {'어린이': 5}, {'말': 14}, {'지금': 5}, {'람들': 7}, {'새해': 9}, {'상품': 11}, {'대비': 6}, {'정도': 8}, {'시간': 12}, {'세계': 5}, {'생각': 17}, {'물건': 13}, {'거': 9}, {'공정무역': 12}, {'때문': 6}, {'소비': 7}, {'아이들': 6}, {'람': 9}, {'●': 5}, {'▷': 8}, {'스마트': 7}, {'물': 5}, {'필요': 11}, {'해': 7}, {'증상': 10}, {'마지막': 5}, {'에너지': 6}, {'내향형': 11}, {'아이': 19}, {'자기': 6}, {'외향형': 12}, {'너': 10}, {'가족': 6}, {'치료': 6}, {'알레르기비염': 17}, {'알레르기': 7}, {'2021년': 7}, {'마스크': 5}, {'아빠': 5}, {'호랑': 5}]\n"
          ]
        }
      ]
    },
    {
      "cell_type": "code",
      "source": [
        "# json 저장\n",
        "file_path = \"./count_example.json\"\n",
        "with open(file_path, 'w') as file:\n",
        "    json.dump(count_data, file)\n",
        "\n",
        "# csv 저장\n",
        "df.to_csv(\"./news_data.csv\", index=False, sep='\\t')"
      ],
      "metadata": {
        "id": "dFecsli6Hl7s"
      },
      "execution_count": 144,
      "outputs": []
    }
  ],
  "metadata": {
    "colab": {
      "collapsed_sections": [],
      "name": "Colaboratory에 오신 것을 환영합니다",
      "provenance": [],
      "include_colab_link": true
    },
    "kernelspec": {
      "display_name": "Python 3",
      "name": "python3"
    }
  },
  "nbformat": 4,
  "nbformat_minor": 0
}